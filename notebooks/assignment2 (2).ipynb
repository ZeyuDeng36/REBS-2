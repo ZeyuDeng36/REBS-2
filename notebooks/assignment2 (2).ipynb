{
 "cells": [
  {
   "cell_type": "markdown",
   "metadata": {},
   "source": [
    "1. nest gorup list tracks all groups, nest group map marks atomic events (index) to groups(key) (add this to obj.py)\n",
    "2. executing an atomic event, add logic that searches it inside nest group map. if found, apply the group arrow to it aswel.\n",
    "3. E I P only includes atomic events. however, the arrow dictionaries like .responses and such include groups, which are resulved in execute."
   ]
  },
  {
   "cell_type": "code",
   "execution_count": 8,
   "metadata": {},
   "outputs": [
    {
     "name": "stdout",
     "output_type": "stream",
     "text": [
      "The autoreload extension is already loaded. To reload it, use:\n",
      "  %reload_ext autoreload\n",
      "c:\\Users\\zeyud\\OneDrive\\Documents\\University_documents\\Year 3\\Reactive and event based systems\\REBS-2\n",
      "c:\\Users\\zeyud\\OneDrive\\Documents\\University_documents\\Year 3\\Reactive and event based systems\n",
      "['c:\\\\Users\\\\zeyud\\\\AppData\\\\Local\\\\Programs\\\\Python\\\\Python312\\\\python312.zip', 'c:\\\\Users\\\\zeyud\\\\AppData\\\\Local\\\\Programs\\\\Python\\\\Python312\\\\DLLs', 'c:\\\\Users\\\\zeyud\\\\AppData\\\\Local\\\\Programs\\\\Python\\\\Python312\\\\Lib', 'c:\\\\Users\\\\zeyud\\\\AppData\\\\Local\\\\Programs\\\\Python\\\\Python312', '', 'C:\\\\Users\\\\zeyud\\\\AppData\\\\Roaming\\\\Python\\\\Python312\\\\site-packages', 'C:\\\\Users\\\\zeyud\\\\AppData\\\\Roaming\\\\Python\\\\Python312\\\\site-packages\\\\win32', 'C:\\\\Users\\\\zeyud\\\\AppData\\\\Roaming\\\\Python\\\\Python312\\\\site-packages\\\\win32\\\\lib', 'C:\\\\Users\\\\zeyud\\\\AppData\\\\Roaming\\\\Python\\\\Python312\\\\site-packages\\\\Pythonwin', 'c:\\\\Users\\\\zeyud\\\\AppData\\\\Local\\\\Programs\\\\Python\\\\Python312\\\\Lib\\\\site-packages', 'C:\\\\Users\\\\zeyud\\\\OneDrive\\\\Documents\\\\University_documents\\\\Year 3\\\\Reactive and event based systems\\\\REBS-2\\\\pm4py']\n"
     ]
    }
   ],
   "source": [
    "%load_ext autoreload\n",
    "%autoreload 2\n",
    "import os\n",
    "print(os.getcwd())\n",
    "to_run = True\n",
    "if to_run:\n",
    "    os.chdir('..')\n",
    "    to_run = False\n",
    "print(os.getcwd())\n",
    "import sys\n",
    "import os\n",
    "\n",
    "pm4py_path = os.path.abspath(\"C:\\\\Users\\\\zeyud\\\\OneDrive\\\\Documents\\\\University_documents\\\\Year 3\\\\Reactive and event based systems\\\\REBS-2\\\\pm4py\")\n",
    "\n",
    "# Add the path if it's not already in sys.path\n",
    "if pm4py_path not in sys.path:\n",
    "    sys.path.append(pm4py_path)\n",
    "\n",
    "# Print sys.path for verification\n",
    "print(sys.path)"
   ]
  },
  {
   "cell_type": "code",
   "execution_count": 9,
   "metadata": {},
   "outputs": [
    {
     "name": "stdout",
     "output_type": "stream",
     "text": [
      "groups {'group1': {'E2', 'E4', 'E3'}}\n",
      "groups_map {'E2': 'group1', 'E4': 'group1', 'E3': 'group1'}\n",
      "conditions {'group1': {'E1'}}\n",
      "excludes {'group1': {'E5'}}\n",
      "enabled: {'E5', 'E1'}\n",
      "execute E3\n",
      "groups {'group1': {'E2', 'E4', 'E3'}}\n",
      "conditions {'group1': {'E1'}}\n",
      "excludes {'group1': {'E5'}}\n",
      "enabled: {'E2', 'E1', 'E4', 'E3'}\n"
     ]
    }
   ],
   "source": [
    "import pm4py\n",
    "\n",
    "from pm4py.objects.petri_net.obj import PetriNet, Marking\n",
    "from pm4py.objects.petri_net.utils import petri_utils\n",
    "from pm4py.visualization.petri_net import visualizer as pn_visualizer\n",
    "\n",
    "from pm4py.objects.dcr.hierarchical.obj import HierarchicalDcrGraph\n",
    "from pm4py.objects.dcr.hierarchical import semantics as Hiearchical_Semantics\n",
    "\n",
    "graph = HierarchicalDcrGraph()\n",
    "semantics = Hiearchical_Semantics.HiearchicalSemantics()\n",
    "events = [\n",
    "    \"E1\", \"E2\",  \"E3\",  \"E4\",\"E5\"\n",
    "]\n",
    "\n",
    "for event in events:\n",
    "    graph.events.add(event)\n",
    "    graph.labels.add(event)\n",
    "    graph.marking.included.add(event)\n",
    "    graph.label_map[event] = event\n",
    "\n",
    "graph.nestedgroups.update({\"group1\":{\"E2\",\"E3\",\"E4\"}})\n",
    "graph.excludes.update({\"group1\":{\"E5\"}})\n",
    "graph.conditions.update({\"group1\":{\"E1\"}})\n",
    "\n",
    "graph.__init__(graph.obj_to_template())\n",
    "\n",
    "\n",
    "print(f\"groups {graph.nestedgroups}\")\n",
    "print(f\"groups_map {graph.nestedgroups_map}\")\n",
    "print(f\"conditions {graph.conditions}\")\n",
    "print(f\"excludes {graph.excludes}\")\n",
    "\n",
    "print(f\"enabled: {semantics.enabled(graph)}\")\n",
    "\n",
    "\n",
    "semantics.execute(graph,\"E1\")\n",
    "semantics.execute(graph,\"E3\")\n",
    "print(\"execute E3\")\n",
    "print(f\"groups {graph.nestedgroups}\")\n",
    "print(f\"conditions {graph.conditions}\")\n",
    "print(f\"excludes {graph.excludes}\")\n",
    "\n",
    "print(f\"enabled: {semantics.enabled(graph)}\")"
   ]
  }
 ],
 "metadata": {
  "kernelspec": {
   "display_name": "Python 3",
   "language": "python",
   "name": "python3"
  },
  "language_info": {
   "codemirror_mode": {
    "name": "ipython",
    "version": 3
   },
   "file_extension": ".py",
   "mimetype": "text/x-python",
   "name": "python",
   "nbconvert_exporter": "python",
   "pygments_lexer": "ipython3",
   "version": "3.12.8"
  }
 },
 "nbformat": 4,
 "nbformat_minor": 2
}
